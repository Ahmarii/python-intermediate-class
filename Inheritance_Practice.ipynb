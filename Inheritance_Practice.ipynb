{
 "cells": [
  {
   "cell_type": "markdown",
   "id": "295647a0",
   "metadata": {},
   "source": [
    "# 🧪 Inheritance Practice Notebook with Expected Output\n",
    "\n",
    "This notebook gives you short practice tasks to reinforce your understanding of **inheritance** in Python.\n",
    "Each task includes an example and the **expected output** so you can check your work."
   ]
  },
  {
   "cell_type": "markdown",
   "id": "4d7905ea",
   "metadata": {},
   "source": [
    "## ✅ Practice 1: Basic Inheritance\n",
    "\n",
    "Create a class `Person` with an attribute `name` and a method `greet()` that prints a greeting.\n",
    "Then create a class `Teacher` that inherits from `Person` and adds a method `teach()`."
   ]
  },
  {
   "cell_type": "code",
   "execution_count": 3,
   "id": "55de79c8",
   "metadata": {},
   "outputs": [
    {
     "name": "stdout",
     "output_type": "stream",
     "text": [
      "Hello, my name is Alice\n",
      "Hello, my name is Mook\n",
      "I'm teaching a class.\n"
     ]
    }
   ],
   "source": [
    "# Your code here\n",
    "class Person:\n",
    "    def __init__(self,name):\n",
    "        self.name = name\n",
    "    \n",
    "    def greet(self):\n",
    "        print(f\"Hello, my name is {self.name}\")\n",
    "\n",
    "class Teacher(Person):\n",
    "    def teach(self):\n",
    "        print(\"I'm teaching a class.\")\n",
    "\n",
    "p = Person(\"Alice\")\n",
    "t = Teacher(\"Mook\")\n",
    "\n",
    "p.greet()\n",
    "t.greet()\n",
    "t.teach()\n",
    "\n",
    "# Example:\n",
    "# p = Person(\"Alice\")\n",
    "# t = Teacher(\"Bob\")\n",
    "# p.greet()\n",
    "# t.greet()\n",
    "# t.teach()\n",
    "\n",
    "# Expected Output:\n",
    "# Hello, my name is Alice.\n",
    "# Hello, my name is Bob.\n",
    "# I'm teaching a class.\n"
   ]
  },
  {
   "cell_type": "markdown",
   "id": "92400f07",
   "metadata": {},
   "source": [
    "## ✅ Practice 2: Using `super()`\n",
    "\n",
    "Create a class `Employee` with attributes `name` and `salary`.\n",
    "Then create a subclass `Manager` that also takes a `department` and uses `super()` to initialize base attributes."
   ]
  },
  {
   "cell_type": "code",
   "execution_count": null,
   "id": "b8bed115",
   "metadata": {},
   "outputs": [
    {
     "ename": "NameError",
     "evalue": "name 'money' is not defined",
     "output_type": "error",
     "traceback": [
      "\u001b[31m---------------------------------------------------------------------------\u001b[39m",
      "\u001b[31mNameError\u001b[39m                                 Traceback (most recent call last)",
      "\u001b[36mCell\u001b[39m\u001b[36m \u001b[39m\u001b[32mIn[25]\u001b[39m\u001b[32m, line 22\u001b[39m\n\u001b[32m     19\u001b[39m         \u001b[38;5;28mself\u001b[39m.department = department\n\u001b[32m     21\u001b[39m \u001b[38;5;66;03m# Example:\u001b[39;00m\n\u001b[32m---> \u001b[39m\u001b[32m22\u001b[39m m = \u001b[43mDeveloper\u001b[49m\u001b[43m(\u001b[49m\u001b[33;43m\"\u001b[39;49m\u001b[33;43mCarol\u001b[39;49m\u001b[33;43m\"\u001b[39;49m\u001b[43m,\u001b[49m\u001b[43m \u001b[49m\u001b[32;43m70000\u001b[39;49m\u001b[43m,\u001b[49m\u001b[43m \u001b[49m\u001b[33;43m\"\u001b[39;49m\u001b[33;43mC++\u001b[39;49m\u001b[33;43m\"\u001b[39;49m\u001b[43m)\u001b[49m\n\u001b[32m     23\u001b[39m \u001b[38;5;28mprint\u001b[39m(m.name, m.salary, m.lang)\n\u001b[32m     25\u001b[39m \u001b[38;5;66;03m# Expected Output:\u001b[39;00m\n\u001b[32m     26\u001b[39m \u001b[38;5;66;03m# Carol 70000 Sales\u001b[39;00m\n",
      "\u001b[36mCell\u001b[39m\u001b[36m \u001b[39m\u001b[32mIn[25]\u001b[39m\u001b[32m, line 13\u001b[39m, in \u001b[36mDeveloper.__init__\u001b[39m\u001b[34m(self, name, salary, lang)\u001b[39m\n\u001b[32m     12\u001b[39m \u001b[38;5;28;01mdef\u001b[39;00m\u001b[38;5;250m \u001b[39m\u001b[34m__init__\u001b[39m(\u001b[38;5;28mself\u001b[39m,name,salary,lang):\n\u001b[32m---> \u001b[39m\u001b[32m13\u001b[39m     \u001b[38;5;28msuper\u001b[39m().\u001b[34m__init__\u001b[39m(name,salary,\u001b[43mmoney\u001b[49m)\n\u001b[32m     14\u001b[39m     \u001b[38;5;28mself\u001b[39m.lang = lang\n",
      "\u001b[31mNameError\u001b[39m: name 'money' is not defined"
     ]
    }
   ],
   "source": [
    "# Your code here\n",
    "class Employee:\n",
    "    def __init__(self,name,salary):\n",
    "        self.name = name\n",
    "        self.salary = salary\n",
    "        \n",
    "class Person:\n",
    "    def __init__(self,money):\n",
    "        self.money = money\n",
    "        \n",
    "class Developer(Person,Employee):  \n",
    "    def __init__(self,name,salary,lang):\n",
    "        super(Developer,self).__init__(name,salary)\n",
    "        self.lang = lang\n",
    "    \n",
    "class Manager(Employee):\n",
    "    def __init__(self,name,salary,department):\n",
    "        super().__init__(name,salary)\n",
    "        self.department = department\n",
    "\n",
    "# Example:\n",
    "m = Developer(\"Carol\", 70000, \"C++\")\n",
    "print(m.name, m.salary, m.lang)\n",
    "\n",
    "# Expected Output:\n",
    "# Carol 70000 Sales\n"
   ]
  },
  {
   "cell_type": "markdown",
   "id": "ed84f62e",
   "metadata": {},
   "source": [
    "## ✅ Practice 3: Override a Method\n",
    "\n",
    "Add a `describe()` method to `Employee` that prints name and salary.\n",
    "Then override it in `Manager` to also include the department."
   ]
  },
  {
   "cell_type": "code",
   "execution_count": null,
   "id": "8b0b69c4",
   "metadata": {},
   "outputs": [
    {
     "name": "stdout",
     "output_type": "stream",
     "text": [
      "20\n",
      "name David salary 80000 department Marketing\n"
     ]
    }
   ],
   "source": [
    "# Your code here\n",
    "class Employee:\n",
    "    def __init__(self,name,salary):\n",
    "        self.name = name\n",
    "        self.salary = salary\n",
    "        \n",
    "    def describe(self):\n",
    "        print(f\"name {self.name} salary {self.salary}\")\n",
    "\n",
    "class Manager(Employee):\n",
    "    \n",
    "    def __init__(self,name,salary,department):\n",
    "        super().__init__(name,salary)\n",
    "        self.department = department\n",
    "        \n",
    "    def describe(self):\n",
    "        print(f\"name {self.name} salary {self.salary} department {self.department}\")\n",
    "\n",
    "# Example:\n",
    "m = Manager(\"David\", 80000, \"Marketing\")\n",
    "m.describe()\n",
    "\n",
    "# Expected Output:\n",
    "# Name: David, Salary: 80000, Department: Marketing\n"
   ]
  },
  {
   "cell_type": "markdown",
   "id": "2e683e00",
   "metadata": {},
   "source": [
    "## ✅ Practice 4: Add New Behavior to Subclass\n",
    "\n",
    "In your `Manager` class, add a method `conduct_meeting()` that prints a message like \"Meeting for [department] started.\""
   ]
  },
  {
   "cell_type": "code",
   "execution_count": null,
   "id": "abc696e2",
   "metadata": {},
   "outputs": [
    {
     "name": "stdout",
     "output_type": "stream",
     "text": [
      "Meeting for Marketing started.\n"
     ]
    }
   ],
   "source": [
    "# Your code here\n",
    "class Manager(Employee):\n",
    "    \n",
    "    def __init__(self,name,salary,department):\n",
    "        super().__init__(name,salary)\n",
    "        self.department = department\n",
    "    \n",
    "    # Update/Overwrite แก้ไขและเขียนทับ\n",
    "    def describe(self):\n",
    "        print(f\"name {self.name} salary {self.salary} department {self.department}\")\n",
    "    \n",
    "    # Add เพิ่ม    \n",
    "    def conduct_meeting(self):\n",
    "        print(f\"Meeting for {self.department} started.\")\n",
    "\n",
    "m = Manager(\"David\", 80000, \"Marketing\")\n",
    "# Example:\n",
    "m.conduct_meeting()\n",
    "\n",
    "# Expected Output:\n",
    "# Meeting for Marketing started.\n"
   ]
  },
  {
   "cell_type": "markdown",
   "id": "a72e1c7a",
   "metadata": {},
   "source": [
    "## ✅ Practice 5: Polymorphism\n",
    "\n",
    "Create a list of `Employee` and `Manager` objects. Use a loop to call `describe()` on each one.\n",
    "Each object should respond differently based on its class."
   ]
  },
  {
   "cell_type": "code",
   "execution_count": null,
   "id": "4167cdad",
   "metadata": {},
   "outputs": [
    {
     "ename": "AttributeError",
     "evalue": "'Animal' object has no attribute 'describe'",
     "output_type": "error",
     "traceback": [
      "\u001b[31m---------------------------------------------------------------------------\u001b[39m",
      "\u001b[31mAttributeError\u001b[39m                            Traceback (most recent call last)",
      "\u001b[36mCell\u001b[39m\u001b[36m \u001b[39m\u001b[32mIn[23]\u001b[39m\u001b[32m, line 13\u001b[39m\n\u001b[32m     11\u001b[39m employees = [Animal(\u001b[33m\"\u001b[39m\u001b[33mBoB\u001b[39m\u001b[33m\"\u001b[39m),Employee(\u001b[33m\"\u001b[39m\u001b[33mAnna\u001b[39m\u001b[33m\"\u001b[39m, \u001b[32m50000\u001b[39m), Manager(\u001b[33m\"\u001b[39m\u001b[33mEve\u001b[39m\u001b[33m\"\u001b[39m, \u001b[32m90000\u001b[39m, \u001b[33m\"\u001b[39m\u001b[33mHR\u001b[39m\u001b[33m\"\u001b[39m)]\n\u001b[32m     12\u001b[39m \u001b[38;5;28;01mfor\u001b[39;00m e \u001b[38;5;129;01min\u001b[39;00m employees:\n\u001b[32m---> \u001b[39m\u001b[32m13\u001b[39m     \u001b[43me\u001b[49m\u001b[43m.\u001b[49m\u001b[43mdescribe\u001b[49m()\n\u001b[32m     15\u001b[39m \u001b[38;5;66;03m# Expected Output:\u001b[39;00m\n\u001b[32m     16\u001b[39m \u001b[38;5;66;03m# Name: Anna, Salary: 50000\u001b[39;00m\n\u001b[32m     17\u001b[39m \u001b[38;5;66;03m# Name: Eve, Salary: 90000, Department: HR\u001b[39;00m\n",
      "\u001b[31mAttributeError\u001b[39m: 'Animal' object has no attribute 'describe'"
     ]
    }
   ],
   "source": [
    "# Your code here\n",
    "\n",
    "class Animal:\n",
    "    def __init__(self, name):\n",
    "        self.name = name\n",
    "        \n",
    "    def describe(self):\n",
    "        print(\"Bark!\")\n",
    "\n",
    "# Example:\n",
    "employees = [Animal(\"BoB\"),Employee(\"Anna\", 50000), Manager(\"Eve\", 90000, \"HR\")]\n",
    "for e in employees:\n",
    "    e.describe()\n",
    "\n",
    "# Expected Output:\n",
    "# Name: Anna, Salary: 50000\n",
    "# Name: Eve, Salary: 90000, Department: HR\n"
   ]
  },
  {
   "cell_type": "markdown",
   "id": "8162f278",
   "metadata": {},
   "source": [
    "## 🎉 You're Done!\n",
    "Great work practicing inheritance, `super()`, method overriding, subclassing, and polymorphism.\n",
    "\n",
    "Try changing the data or adding new features to explore more."
   ]
  }
 ],
 "metadata": {
  "kernelspec": {
   "display_name": "Python 3",
   "language": "python",
   "name": "python3"
  },
  "language_info": {
   "codemirror_mode": {
    "name": "ipython",
    "version": 3
   },
   "file_extension": ".py",
   "mimetype": "text/x-python",
   "name": "python",
   "nbconvert_exporter": "python",
   "pygments_lexer": "ipython3",
   "version": "3.12.4"
  }
 },
 "nbformat": 4,
 "nbformat_minor": 5
}
